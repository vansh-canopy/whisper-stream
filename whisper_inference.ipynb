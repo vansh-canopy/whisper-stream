{
 "cells": [
  {
   "cell_type": "code",
   "execution_count": null,
   "id": "f2174ca9",
   "metadata": {},
   "outputs": [],
   "source": [
    "import torch\n",
    "from transformers import WhisperForConditionalGeneration, WhisperProcessor\n",
    "from utils import prepare_data\n",
    "import matplotlib.pyplot as plt\n",
    "import inspect"
   ]
  },
  {
   "cell_type": "code",
   "execution_count": null,
   "id": "0b4ce86a",
   "metadata": {},
   "outputs": [],
   "source": [
    "my_model = WhisperForConditionalGeneration.from_pretrained(\"./whisper_causal_3/checkpoint-109000\")\n",
    "whisper_model = WhisperForConditionalGeneration.from_pretrained(\"openai/whisper-base\")\n",
    "processor = WhisperProcessor.from_pretrained(\"openai/whisper-base\")\n",
    "\n",
    "for layer in my_model.model.encoder.layers:        \n",
    "    layer.self_attn.is_causal = True          # type: ignore[attr-defined]"
   ]
  },
  {
   "cell_type": "code",
   "execution_count": null,
   "id": "0aefe5e8",
   "metadata": {},
   "outputs": [],
   "source": [
    "print(inspect.getsource(my_model.forward))"
   ]
  },
  {
   "cell_type": "code",
   "execution_count": null,
   "id": "477a1955",
   "metadata": {},
   "outputs": [],
   "source": [
    "ds = prepare_data(max_shards=5)\n",
    "\n",
    "my_model_loss = []\n",
    "whisper_model_loss = []\n",
    "\n",
    "for i in range(100):\n",
    "    sample = ds[i]                                            # type: ignore[attr-defined]\n",
    "    audio = torch.from_numpy(sample[\"mp3\"][\"array\"]).float()  # type: ignore[attr-defined]\n",
    "    text = sample[\"json\"][\"text\"]                             # type: ignore[attr-defined]\n",
    "    \n",
    "    labels = torch.tensor(processor.tokenizer(text, add_special_tokens=False).input_ids).unsqueeze(0)  # type: ignore[attr-defined]\n",
    "    inputs = processor(audio, sampling_rate=16000, return_tensors=\"pt\")                                # type: ignore[attr-defined]\n",
    "    \n",
    "    with torch.no_grad():\n",
    "        my_outputs = my_model(\n",
    "            inputs.input_features, \n",
    "            labels=labels\n",
    "            )\n",
    "        whisper_outputs_base = whisper_model(\n",
    "            inputs.input_features, \n",
    "            labels=labels\n",
    "            )\n",
    "        \n",
    "        generated_ids = whisper_model.generate(\n",
    "            inputs.input_features, \n",
    "            temperature=0.5,  # Very deterministic\n",
    "            do_sample=True    # Must set this to True for temperature to work\n",
    "        )\n",
    "\n",
    "        generated_ids = whisper_model.generate(\n",
    "            inputs.input_features, \n",
    "            temperature=0.5,  # More creative/random\n",
    "            do_sample=True\n",
    "        )\n",
    "        \n",
    "    my_results = processor.batch_decode(my_outputs.logits.argmax(dim=-1), skip_special_tokens=True)[0]  # type: ignore[attr-defined]\n",
    "    whisper_results = processor.batch_decode(whisper_outputs_base.logits.argmax(dim=-1), skip_special_tokens=True)[0]  # type: ignore[attr-defined]\n",
    "        \n",
    "    \n",
    "    my_model_loss.append(my_outputs.loss.item())\n",
    "    whisper_model_loss.append(whisper_outputs_base.loss.item())\n",
    "    # print(f\"Truth: {text}\")\n",
    "    # print(f\"Mine: {my_results}\")\n",
    "    # print(f\"Base: {whisper_results}\")\n",
    "    print(\"\\n\")\n",
    "  "
   ]
  },
  {
   "cell_type": "code",
   "execution_count": null,
   "id": "43352505",
   "metadata": {},
   "outputs": [],
   "source": [
    "plt.plot(my_model_loss, label=\"Model\")\n",
    "plt.plot(whisper_model_loss, label=\"Base\")\n",
    "plt.legend()"
   ]
  },
  {
   "cell_type": "code",
   "execution_count": null,
   "id": "28b9c436",
   "metadata": {},
   "outputs": [],
   "source": [
    "print(f\"Model Loss: {sum(my_model_loss) / len(my_model_loss)}\")\n",
    "print(f\"Whisper Loss: {sum(whisper_model_loss) / len(whisper_model_loss)}\")"
   ]
  },
  {
   "cell_type": "code",
   "execution_count": null,
   "id": "419fe839",
   "metadata": {},
   "outputs": [],
   "source": []
  }
 ],
 "metadata": {
  "kernelspec": {
   "display_name": ".venv",
   "language": "python",
   "name": "python3"
  },
  "language_info": {
   "codemirror_mode": {
    "name": "ipython",
    "version": 3
   },
   "file_extension": ".py",
   "mimetype": "text/x-python",
   "name": "python",
   "nbconvert_exporter": "python",
   "pygments_lexer": "ipython3",
   "version": "3.10.15"
  }
 },
 "nbformat": 4,
 "nbformat_minor": 5
}
