{
 "cells": [
  {
   "cell_type": "code",
   "execution_count": null,
   "id": "810a596b",
   "metadata": {},
   "outputs": [],
   "source": [
    "import math"
   ]
  },
  {
   "cell_type": "code",
   "execution_count": null,
   "id": "ceb10622",
   "metadata": {},
   "outputs": [],
   "source": [
    "def calculate_receptive_field(layer_type, kernal, pad, strides, J, L, beta, l, dilation):\n",
    "    \n",
    "    if layer_type == \"Tconv\":\n",
    "        J.append(J[l-1] / strides[l])\n",
    "        L.append(L[l-1] - J[l-1] * math.floor((kernal[l] - 1)) / strides[l])\n",
    "        beta.append(beta[l-1] + pad[l] * J[l])\n",
    "    else:\n",
    "        J.append(J[l-1] * strides[l])\n",
    "        beta.append(beta[l-1])\n",
    "        L.append(L[l-1] - (kernal[l] - 1) * dilation[l] * J[l-1])\n",
    "        "
   ]
  },
  {
   "cell_type": "code",
   "execution_count": null,
   "id": "180d84de",
   "metadata": {},
   "outputs": [],
   "source": [
    "strides = [8, 8, 4, 2]\n",
    "kernal = [stride * 2 for stride in strides]\n",
    "pad = [math.ceil(stride / 2) for stride in strides]\n",
    "\n",
    "\n",
    "L, J, beta = calculate_receptive_field(4, kernal, pad, strides)"
   ]
  },
  {
   "cell_type": "code",
   "execution_count": null,
   "id": "6bf4c1ed",
   "metadata": {},
   "outputs": [],
   "source": []
  }
 ],
 "metadata": {
  "kernelspec": {
   "display_name": ".venv",
   "language": "python",
   "name": "python3"
  },
  "language_info": {
   "codemirror_mode": {
    "name": "ipython",
    "version": 3
   },
   "file_extension": ".py",
   "mimetype": "text/x-python",
   "name": "python",
   "nbconvert_exporter": "python",
   "pygments_lexer": "ipython3",
   "version": "3.10.15"
  }
 },
 "nbformat": 4,
 "nbformat_minor": 5
}
