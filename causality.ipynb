{
 "cells": [
  {
   "cell_type": "code",
   "execution_count": null,
   "id": "0eaf261f",
   "metadata": {},
   "outputs": [],
   "source": [
    "import torch  # type: ignore[attr-defined]\n",
    "from causal_wrapper import load_causal_whisper"
   ]
  },
  {
   "cell_type": "code",
   "execution_count": null,
   "id": "e5f5d1a4",
   "metadata": {},
   "outputs": [],
   "source": [
    "MODEL_ID = \"openai/whisper-base\"\n",
    "DEVICE = \"cuda:5\" if torch.cuda.is_available() else \"cpu\"\n",
    "N_MELS = 80\n",
    "TOTAL_FRAMES = 3000 \n",
    "SHARED_FRAMES = 500 "
   ]
  },
  {
   "cell_type": "code",
   "execution_count": null,
   "id": "fa9812ae",
   "metadata": {},
   "outputs": [],
   "source": [
    "model = load_causal_whisper(MODEL_ID, for_conditional=True)\n",
    "model.to(DEVICE)\n",
    "model.eval()"
   ]
  },
  {
   "cell_type": "code",
   "execution_count": null,
   "id": "b9212684",
   "metadata": {},
   "outputs": [],
   "source": [
    "# if not conditional generation, then replace model.model.encoder with model.encoder\n",
    "print(model.model.encoder.causal_mask)"
   ]
  },
  {
   "cell_type": "code",
   "execution_count": null,
   "id": "6942ec80",
   "metadata": {},
   "outputs": [],
   "source": [
    "for name, param in model.named_parameters():\n",
    "    print(name)"
   ]
  },
  {
   "cell_type": "code",
   "execution_count": null,
   "id": "08dbd1e2",
   "metadata": {},
   "outputs": [],
   "source": [
    "import inspect\n",
    "print(inspect.getsource(model.model.encoder.forward))"
   ]
  },
  {
   "cell_type": "code",
   "execution_count": null,
   "id": "28715d21",
   "metadata": {},
   "outputs": [],
   "source": [
    "common = torch.randn(1, N_MELS, SHARED_FRAMES, device=DEVICE)\n",
    "extra1 = torch.randn(1, N_MELS, TOTAL_FRAMES - SHARED_FRAMES, device=DEVICE)\n",
    "extra2 = torch.randn(1, N_MELS, TOTAL_FRAMES - SHARED_FRAMES, device=DEVICE)\n",
    "\n",
    "x1 = torch.cat([common, extra1], dim=2)\n",
    "x2 = torch.cat([common, extra2], dim=2)\n",
    "\n",
    "L = TOTAL_FRAMES // 2\n",
    "look_ahead = 1\n",
    "model.model.encoder.causal_mask = model.model.encoder._create_lookahead_mask(L, \n",
    "                                                                 look_ahead, \n",
    "                                                                 DEVICE, \n",
    "                                                                 dtype=model.dtype)\n",
    "\n",
    "\n",
    "with torch.no_grad():\n",
    "    latents_1 = model.model.encoder(x1).last_hidden_state  # type: ignore[attr-defined]\n",
    "    latents_2 = model.model.encoder(x2).last_hidden_state  # type: ignore[attr-defined]\n",
    "\n",
    "print(f\"Latent shapes: {latents_1.shape}, {latents_2.shape}\")"
   ]
  },
  {
   "cell_type": "code",
   "execution_count": null,
   "id": "4185ae82",
   "metadata": {},
   "outputs": [],
   "source": [
    "del_latents = latents_1 - latents_2\n",
    "\n",
    "for i in range(del_latents.shape[1]):\n",
    "    if del_latents[0][i][0] != 0:\n",
    "        print(f\"Latent {i} {0} is not zero: {del_latents[0][i][0]}\")"
   ]
  },
  {
   "cell_type": "code",
   "execution_count": null,
   "id": "e4816c20",
   "metadata": {},
   "outputs": [],
   "source": []
  }
 ],
 "metadata": {
  "kernelspec": {
   "display_name": ".venv",
   "language": "python",
   "name": "python3"
  },
  "language_info": {
   "codemirror_mode": {
    "name": "ipython",
    "version": 3
   },
   "file_extension": ".py",
   "mimetype": "text/x-python",
   "name": "python",
   "nbconvert_exporter": "python",
   "pygments_lexer": "ipython3",
   "version": "3.10.15"
  }
 },
 "nbformat": 4,
 "nbformat_minor": 5
}
