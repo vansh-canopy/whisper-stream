{
 "cells": [
  {
   "cell_type": "code",
   "execution_count": null,
   "id": "0eaf261f",
   "metadata": {},
   "outputs": [],
   "source": [
    "import torch  # type: ignore[attr-defined]\n",
    "from causal_wrapper import load_causal_whisper"
   ]
  },
  {
   "cell_type": "code",
   "execution_count": null,
   "id": "e5f5d1a4",
   "metadata": {},
   "outputs": [],
   "source": [
    "MODEL_ID = \"openai/whisper-base\"\n",
    "DEVICE = \"cuda:5\" if torch.cuda.is_available() else \"cpu\"\n",
    "N_MELS = 80\n",
    "TOTAL_FRAMES = 3000 \n",
    "SHARED_FRAMES = 500 "
   ]
  },
  {
   "cell_type": "code",
   "execution_count": null,
   "id": "fa9812ae",
   "metadata": {},
   "outputs": [],
   "source": [
    "model = load_causal_whisper(MODEL_ID, device=DEVICE)\n",
    "model.eval()"
   ]
  },
  {
   "cell_type": "code",
   "execution_count": null,
   "id": "6942ec80",
   "metadata": {},
   "outputs": [],
   "source": [
    "for name, param in model.named_parameters():\n",
    "    if param.requires_grad is False:\n",
    "        print(name, param.shape)"
   ]
  },
  {
   "cell_type": "code",
   "execution_count": null,
   "id": "28715d21",
   "metadata": {},
   "outputs": [],
   "source": [
    "common = torch.randn(1, N_MELS, SHARED_FRAMES, device=DEVICE)\n",
    "extra1 = torch.randn(1, N_MELS, TOTAL_FRAMES - SHARED_FRAMES, device=DEVICE)\n",
    "extra2 = torch.randn(1, N_MELS, TOTAL_FRAMES - SHARED_FRAMES, device=DEVICE)\n",
    "\n",
    "x1 = torch.cat([common, extra1], dim=2)\n",
    "x2 = torch.cat([common, extra2], dim=2)\n",
    "\n",
    "L = TOTAL_FRAMES // 2\n",
    "look_ahead = 0\n",
    "mask = model.encoder._create_lookahead_mask(L, look_ahead, DEVICE, dtype=model.dtype)\n",
    "\n",
    "with torch.no_grad():\n",
    "    lat1 = model.encoder(x1, causal_mask=mask).last_hidden_state  # type: ignore[attr-defined]\n",
    "    lat2 = model.encoder(x2, causal_mask=mask).last_hidden_state  # type: ignore[attr-defined]\n",
    "\n",
    "print(f\"Latent shapes: {lat1.shape}, {lat2.shape}\")"
   ]
  },
  {
   "cell_type": "code",
   "execution_count": null,
   "id": "4185ae82",
   "metadata": {},
   "outputs": [],
   "source": [
    "del_latents = lat1 - lat2\n",
    "ok = True\n",
    "\n",
    "for i in range(del_latents.shape[1]):\n",
    "    for j in range(del_latents.shape[2]):\n",
    "        if del_latents[0][i][j] != 0:\n",
    "            print(f\"Latent {i} {j} is not zero: {del_latents[0][i][j]}\")\n",
    "            ok = False\n",
    "            break"
   ]
  },
  {
   "cell_type": "code",
   "execution_count": null,
   "id": "e55a651f",
   "metadata": {},
   "outputs": [],
   "source": [
    "del_latents[0][439]"
   ]
  },
  {
   "cell_type": "code",
   "execution_count": null,
   "id": "e4816c20",
   "metadata": {},
   "outputs": [],
   "source": []
  }
 ],
 "metadata": {
  "kernelspec": {
   "display_name": ".venv",
   "language": "python",
   "name": "python3"
  },
  "language_info": {
   "codemirror_mode": {
    "name": "ipython",
    "version": 3
   },
   "file_extension": ".py",
   "mimetype": "text/x-python",
   "name": "python",
   "nbconvert_exporter": "python",
   "pygments_lexer": "ipython3",
   "version": "3.10.15"
  }
 },
 "nbformat": 4,
 "nbformat_minor": 5
}
