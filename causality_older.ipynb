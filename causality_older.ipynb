{
 "cells": [
  {
   "cell_type": "code",
   "execution_count": 5,
   "id": "d6f74aa7",
   "metadata": {},
   "outputs": [],
   "source": [
    "import torch\n",
    "import inspect\n",
    "import numpy as np\n",
    "import matplotlib.pyplot as plotter   # type: ignore[attr-defined]\n",
    "from transformers import WhisperForConditionalGeneration, WhisperProcessor "
   ]
  },
  {
   "cell_type": "code",
   "execution_count": 2,
   "id": "0436990d",
   "metadata": {},
   "outputs": [],
   "source": [
    "model_id = \"openai/whisper-base\"    \n",
    "model = WhisperForConditionalGeneration.from_pretrained(model_id)\n",
    "processor = WhisperProcessor.from_pretrained(model_id)"
   ]
  },
  {
   "cell_type": "code",
   "execution_count": 11,
   "id": "6a07be55",
   "metadata": {},
   "outputs": [
    {
     "name": "stdout",
     "output_type": "stream",
     "text": [
      "    @auto_docstring\n",
      "    def forward(\n",
      "        self,\n",
      "        input_features: Optional[torch.FloatTensor] = None,\n",
      "        attention_mask: Optional[torch.LongTensor] = None,\n",
      "        decoder_input_ids: Optional[torch.LongTensor] = None,\n",
      "        decoder_attention_mask: Optional[torch.LongTensor] = None,\n",
      "        head_mask: Optional[torch.Tensor] = None,\n",
      "        decoder_head_mask: Optional[torch.Tensor] = None,\n",
      "        cross_attn_head_mask: Optional[torch.Tensor] = None,\n",
      "        encoder_outputs: Optional[tuple[tuple[torch.FloatTensor]]] = None,\n",
      "        past_key_values: Optional[Union[EncoderDecoderCache, tuple[torch.FloatTensor]]] = None,\n",
      "        decoder_inputs_embeds: Optional[tuple[torch.FloatTensor]] = None,\n",
      "        decoder_position_ids: Optional[tuple[torch.LongTensor]] = None,\n",
      "        use_cache: Optional[bool] = None,\n",
      "        output_attentions: Optional[bool] = None,\n",
      "        output_hidden_states: Optional[bool] = None,\n",
      "        return_dict: Optional[bool] = None,\n",
      "        cache_position: Optional[torch.LongTensor] = None,\n",
      "    ) -> Union[tuple[torch.Tensor], Seq2SeqModelOutput]:\n",
      "        r\"\"\"\n",
      "        input_features (`torch.FloatTensor` of shape `(batch_size, feature_size, sequence_length)`):\n",
      "            Float values mel features extracted from the raw speech waveform. Raw speech waveform can be obtained by\n",
      "            loading a `.flac` or `.wav` audio file into an array of type `list[float]` or a `numpy.ndarray`, *e.g.* via\n",
      "            the soundfile library (`pip install soundfile`). To prepare the array into `input_features`, the\n",
      "            [`AutoFeatureExtractor`] should be used for extracting the mel features, padding and conversion into a\n",
      "            tensor of type `torch.FloatTensor`. See [`~WhisperFeatureExtractor.__call__`]\n",
      "        decoder_input_ids (`torch.LongTensor` of shape `(batch_size, target_sequence_length)`, *optional*):\n",
      "            Indices of decoder input sequence tokens in the vocabulary.\n",
      "\n",
      "            Indices can be obtained using [`WhisperTokenizer`]. See [`PreTrainedTokenizer.encode`] and\n",
      "            [`PreTrainedTokenizer.__call__`] for details.\n",
      "\n",
      "            [What are decoder input IDs?](../glossary#decoder-input-ids)\n",
      "\n",
      "            Whisper uses the `decoder_start_token_id` as the starting token for `decoder_input_ids` generation. If\n",
      "            `past_key_values` is used, optionally only the last `decoder_input_ids` have to be input (see\n",
      "            `past_key_values`).\n",
      "        decoder_attention_mask (`torch.LongTensor` of shape `(batch_size, target_sequence_length)`, *optional*):\n",
      "            Default behavior: generate a tensor that ignores pad tokens in `decoder_input_ids`. Causal mask will also\n",
      "            be used by default.\n",
      "\n",
      "            If you want to change padding behavior, you should read\n",
      "            [`modeling_whisper._prepare_decoder_attention_mask`] and modify to your needs. See diagram 1 in [the BART\n",
      "            paper](https://huggingface.co/papers/1910.13461) for more information on the default strategy.\n",
      "        cross_attn_head_mask (`torch.Tensor` of shape `(decoder_layers, decoder_attention_heads)`, *optional*):\n",
      "            Mask to nullify selected heads of the cross-attention modules. Mask values selected in `[0, 1]`:\n",
      "\n",
      "            - 1 indicates the head is **not masked**,\n",
      "            - 0 indicates the head is **masked**.\n",
      "        decoder_position_ids (`torch.LongTensor` of shape `(batch_size, sequence_length)`, *optional*):\n",
      "            Indices of positions of each input sequence tokens in the position embeddings. Selected in the range `[0,\n",
      "            config.n_positions - 1]`.\n",
      "\n",
      "            [What are position IDs?](../glossary#position-ids)\n",
      "\n",
      "        Example:\n",
      "         ```python\n",
      "         >>> import torch\n",
      "         >>> from transformers import AutoFeatureExtractor, WhisperModel\n",
      "         >>> from datasets import load_dataset\n",
      "\n",
      "         >>> model = WhisperModel.from_pretrained(\"openai/whisper-base\")\n",
      "         >>> feature_extractor = AutoFeatureExtractor.from_pretrained(\"openai/whisper-base\")\n",
      "         >>> ds = load_dataset(\"hf-internal-testing/librispeech_asr_dummy\", \"clean\", split=\"validation\")\n",
      "         >>> inputs = feature_extractor(ds[0][\"audio\"][\"array\"], return_tensors=\"pt\")\n",
      "         >>> input_features = inputs.input_features\n",
      "         >>> decoder_input_ids = torch.tensor([[1, 1]]) * model.config.decoder_start_token_id\n",
      "         >>> last_hidden_state = model(input_features, decoder_input_ids=decoder_input_ids).last_hidden_state\n",
      "         >>> list(last_hidden_state.shape)\n",
      "         [1, 2, 512]\n",
      "         ```\"\"\"\n",
      "        output_attentions = output_attentions if output_attentions is not None else self.config.output_attentions\n",
      "        output_hidden_states = (\n",
      "            output_hidden_states if output_hidden_states is not None else self.config.output_hidden_states\n",
      "        )\n",
      "        use_cache = use_cache if use_cache is not None else self.config.use_cache\n",
      "        return_dict = return_dict if return_dict is not None else self.config.use_return_dict\n",
      "\n",
      "        if encoder_outputs is None:\n",
      "            input_features = self._mask_input_features(input_features, attention_mask=attention_mask)\n",
      "\n",
      "            encoder_outputs = self.encoder(\n",
      "                input_features,\n",
      "                head_mask=head_mask,\n",
      "                output_attentions=output_attentions,\n",
      "                output_hidden_states=output_hidden_states,\n",
      "                return_dict=return_dict,\n",
      "            )\n",
      "        # If the user passed a tuple for encoder_outputs, we wrap it in a BaseModelOutput when return_dict=True\n",
      "        elif return_dict and not isinstance(encoder_outputs, BaseModelOutput):\n",
      "            encoder_outputs = BaseModelOutput(\n",
      "                last_hidden_state=encoder_outputs[0],\n",
      "                hidden_states=encoder_outputs[1] if len(encoder_outputs) > 1 else None,\n",
      "                attentions=encoder_outputs[2] if len(encoder_outputs) > 2 else None,\n",
      "            )\n",
      "\n",
      "        # decoder outputs consists of (dec_features, past_key_value, dec_hidden, dec_attn)\n",
      "        decoder_outputs = self.decoder(\n",
      "            input_ids=decoder_input_ids,\n",
      "            attention_mask=decoder_attention_mask,\n",
      "            encoder_hidden_states=encoder_outputs[0],\n",
      "            head_mask=decoder_head_mask,\n",
      "            cross_attn_head_mask=cross_attn_head_mask,\n",
      "            past_key_values=past_key_values,\n",
      "            inputs_embeds=decoder_inputs_embeds,\n",
      "            position_ids=decoder_position_ids,\n",
      "            use_cache=use_cache,\n",
      "            output_attentions=output_attentions,\n",
      "            output_hidden_states=output_hidden_states,\n",
      "            return_dict=return_dict,\n",
      "            cache_position=cache_position,\n",
      "        )\n",
      "\n",
      "        if not return_dict:\n",
      "            return decoder_outputs + encoder_outputs\n",
      "\n",
      "        return Seq2SeqModelOutput(\n",
      "            last_hidden_state=decoder_outputs.last_hidden_state,\n",
      "            past_key_values=decoder_outputs.past_key_values,\n",
      "            decoder_hidden_states=decoder_outputs.hidden_states,\n",
      "            decoder_attentions=decoder_outputs.attentions,\n",
      "            cross_attentions=decoder_outputs.cross_attentions,\n",
      "            encoder_last_hidden_state=encoder_outputs.last_hidden_state,\n",
      "            encoder_hidden_states=encoder_outputs.hidden_states,\n",
      "            encoder_attentions=encoder_outputs.attentions,\n",
      "        )\n",
      "\n"
     ]
    }
   ],
   "source": [
    "print(inspect.getsource(model.model.forward))\n",
    "# print(inspect.getsource(model.model.forward))\n"
   ]
  },
  {
   "cell_type": "code",
   "execution_count": null,
   "id": "60074321",
   "metadata": {},
   "outputs": [],
   "source": [
    "for layer in model.model.encoder.layers:        \n",
    "    layer.self_attn.is_causal = True            # type: ignore[attr-defined]"
   ]
  },
  {
   "cell_type": "code",
   "execution_count": null,
   "id": "b572d427",
   "metadata": {},
   "outputs": [],
   "source": [
    "audio_5s = torch.randn(16000 * 10).numpy()\n",
    "audio_7s = np.concatenate([audio_5s, torch.randn(16000 * 6).numpy()])\n",
    "\n",
    "inputs_5s = processor(audio_5s, sampling_rate=16000, return_tensors=\"pt\") # type: ignore[attr-defined]\n",
    "inputs_7s = processor(audio_7s, sampling_rate=16000, return_tensors=\"pt\") # type: ignore[attr-defined]\n",
    "\n",
    "print(f\"Mel spectrogram 5s: {inputs_5s.input_features.shape}\")\n",
    "print(f\"Mel spectrogram 7s: {inputs_7s.input_features.shape}\")"
   ]
  },
  {
   "cell_type": "code",
   "execution_count": null,
   "id": "1a873c5f",
   "metadata": {},
   "outputs": [],
   "source": [
    "F, axes = plotter.subplots(5, 1, figsize=(15, 12))\n",
    "\n",
    "for i in range(5):\n",
    "    feature_5s = inputs_5s.input_features[0, i, :].numpy()\n",
    "    feature_7s = inputs_7s.input_features[0, i, :].numpy()\n",
    "    \n",
    "    axes[i].plot(feature_5s, label='5s audio', alpha=0.7, linewidth=1)\n",
    "    axes[i].plot(feature_7s, label='7s audio', alpha=0.7, linewidth=1)\n",
    "    axes[i].set_title(f'Mel Frequency Bin {i}')\n",
    "    axes[i].set_xlabel('Time Frame')\n",
    "    axes[i].set_ylabel('Mel Value')\n",
    "    axes[i].legend()\n",
    "    axes[i].grid(True, alpha=0.3)\n",
    "\n",
    "plotter.tight_layout()\n",
    "plotter.show()"
   ]
  },
  {
   "cell_type": "code",
   "execution_count": null,
   "id": "ba818e14",
   "metadata": {},
   "outputs": [],
   "source": [
    "feature_5s = inputs_5s.input_features\n",
    "feature_7s = inputs_7s.input_features"
   ]
  },
  {
   "cell_type": "code",
   "execution_count": null,
   "id": "cd72682d",
   "metadata": {},
   "outputs": [],
   "source": [
    "# channels_before_attention   = feature_5s.shape[-1] // 2    # 3000 → 1500 after conv\n",
    "\n",
    "# causal    = torch.tril(torch.ones(channels_before_attention, channels_before_attention))\n",
    "\n",
    "# attn_mask = torch.where(causal == 1,\n",
    "#                         torch.tensor(0.0),\n",
    "#                         torch.tensor(float(\"-inf\"))\n",
    "#                        )[None, None, :, :]     \n",
    "\n",
    "# attn_mask = attn_mask.to(dtype=model.model.encoder.embed_positions.weight.dtype)\n",
    "\n",
    "# model.eval()\n",
    "# # Generate transcription\n",
    "# with torch.no_grad():\n",
    "#     latents_5s = model.model.encoder(feature_5s, attention_mask=attn_mask)\n",
    "#     latents_7s = model.model.encoder(feature_7s, attention_mask=attn_mask)"
   ]
  },
  {
   "cell_type": "code",
   "execution_count": null,
   "id": "21662006",
   "metadata": {},
   "outputs": [],
   "source": [
    "# Process both through the encoder\n",
    "with torch.no_grad():\n",
    "    latents_5s = model.model.encoder(feature_5s)\n",
    "    latents_7s = model.model.encoder(feature_7s)"
   ]
  },
  {
   "cell_type": "code",
   "execution_count": 26,
   "id": "63fc6199",
   "metadata": {},
   "outputs": [
    {
     "name": "stdout",
     "output_type": "stream",
     "text": [
      "5s latents shape: torch.Size([1, 1500, 512])\n",
      "7s latents shape: torch.Size([1, 1500, 512])\n"
     ]
    }
   ],
   "source": [
    "latents_5s_tensor = latents_5s.last_hidden_state\n",
    "latents_7s_tensor = latents_7s.last_hidden_state\n",
    "\n",
    "print(f\"5s latents shape: {latents_5s_tensor.shape}\")\n",
    "print(f\"7s latents shape: {latents_7s_tensor.shape}\")"
   ]
  },
  {
   "cell_type": "code",
   "execution_count": 28,
   "id": "e028ef98",
   "metadata": {},
   "outputs": [
    {
     "data": {
      "image/png": "[encoded data removed]",
      "text/plain": [
       "<Figure size 640x480 with 1 Axes>"
      ]
     },
     "metadata": {},
     "output_type": "display_data"
    }
   ],
   "source": [
    "plotter.plot(latents_5s_tensor[0, 1099, :])\n",
    "plotter.plot(latents_7s_tensor[0, 1099, :])\n",
    "plotter.show()"
   ]
  },
  {
   "cell_type": "code",
   "execution_count": 23,
   "id": "45479d4c",
   "metadata": {},
   "outputs": [
    {
     "name": "stdout",
     "output_type": "stream",
     "text": [
      "499\n"
     ]
    }
   ],
   "source": [
    "for i in range(1500):\n",
    "    l1 = latents_5s_tensor[0][i]\n",
    "    l2 = latents_7s_tensor[0][i]\n",
    "    if not np.allclose(l1, l2):\n",
    "        print(i)\n",
    "        break"
   ]
  },
  {
   "cell_type": "code",
   "execution_count": null,
   "id": "cf68c4ad",
   "metadata": {},
   "outputs": [],
   "source": [
    "print(latents_5s_tensor[0][150])\n",
    "print(\"hello\")\n",
    "print(latents_7s_tensor[0][450])"
   ]
  },
  {
   "cell_type": "markdown",
   "id": "289a530f",
   "metadata": {},
   "source": [
    "### Wav2Vec"
   ]
  },
  {
   "cell_type": "code",
   "execution_count": null,
   "id": "57f86924",
   "metadata": {},
   "outputs": [],
   "source": [
    "import inspect\n",
    "print(inspect.getsource(model.model.encoder.forward))"
   ]
  },
  {
   "cell_type": "code",
   "execution_count": null,
   "id": "5c851f3b",
   "metadata": {},
   "outputs": [],
   "source": [
    "model_id = \"facebook/w2v-bert-2.0\"\n",
    "model = Wav2Vec2BertModel.from_pretrained(model_id)"
   ]
  },
  {
   "cell_type": "code",
   "execution_count": null,
   "id": "8d30427c",
   "metadata": {},
   "outputs": [],
   "source": [
    "print(model.forward)"
   ]
  },
  {
   "cell_type": "code",
   "execution_count": null,
   "id": "6ba5329d",
   "metadata": {},
   "outputs": [],
   "source": [
    "print(f\"Number of encoder layers: {len(model.encoder.layers)}\")\n",
    "\n",
    "lennn = 500\n",
    "\n",
    "audio_5s = torch.randn((1, 4, 160))\n",
    "audio_7s = np.concatenate((audio_5s.numpy(), torch.randn((1, 4, 160)).numpy()), axis=1)\n",
    "audio_7s = torch.from_numpy(audio_7s)\n",
    "\n",
    "print(f\"A: {audio_5s.shape}\")\n",
    "print(f\"Long tensor shape: {audio_7s.shape}\")"
   ]
  },
  {
   "cell_type": "code",
   "execution_count": null,
   "id": "e2928945",
   "metadata": {},
   "outputs": [],
   "source": [
    "with torch.no_grad():\n",
    "    o1 = model(audio_5s)\n",
    "    o2 = model(audio_7s)"
   ]
  },
  {
   "cell_type": "code",
   "execution_count": null,
   "id": "db68e976",
   "metadata": {},
   "outputs": [],
   "source": [
    "print(o1.last_hidden_state.shape)\n",
    "print(o2.last_hidden_state.shape)\n",
    "\n",
    "o1h = o1.last_hidden_state\n",
    "o2h = o2.last_hidden_state"
   ]
  },
  {
   "cell_type": "code",
   "execution_count": null,
   "id": "c99f6a36",
   "metadata": {},
   "outputs": [],
   "source": [
    "for i in range(4):\n",
    "    print(o1h[0][i])\n",
    "    print(o2h[0][i])\n",
    "    print(\"--------------------------------\")"
   ]
  }
 ],
 "metadata": {
  "kernelspec": {
   "display_name": ".venv",
   "language": "python",
   "name": "python3"
  },
  "language_info": {
   "codemirror_mode": {
    "name": "ipython",
    "version": 3
   },
   "file_extension": ".py",
   "mimetype": "text/x-python",
   "name": "python",
   "nbconvert_exporter": "python",
   "pygments_lexer": "ipython3",
   "version": "3.10.15"
  }
 },
 "nbformat": 4,
 "nbformat_minor": 5
}
